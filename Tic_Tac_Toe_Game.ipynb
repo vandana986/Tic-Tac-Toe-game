{
 "cells": [
  {
   "cell_type": "markdown",
   "id": "37c4ed3a-b03b-4547-9ca1-4bcc0e9e695c",
   "metadata": {},
   "source": [
    "**Create a Tic Tac Toe game**\n",
    "\n",
    "- **Two players should be able to play the game(Both sitting at the same computer).**\n",
    "- **The board should be printed out every time a player makes a move.**\n",
    "- **You should be able to accept input of the player position and then place a symbol on the board.**\n"
   ]
  },
  {
   "cell_type": "code",
   "execution_count": 1,
   "id": "985f8e08-94ad-457f-b815-bcadc2476516",
   "metadata": {},
   "outputs": [],
   "source": [
    "from IPython.display import clear_output\n",
    "\n",
    "# A function that can print out a board.\n",
    "def display_board(board):\n",
    "    clear_output()\n",
    "    print(board[7]+'      |      '+board[8]+'      |      '+board[9])\n",
    "    print('-------|-------------|--------')\n",
    "    print(board[4]+'      |      '+board[5]+'      |      '+board[6])\n",
    "    print('-------|-------------|--------')\n",
    "    print(board[1]+'      |      '+board[2]+'      |      '+board[3])"
   ]
  },
  {
   "cell_type": "code",
   "execution_count": 2,
   "id": "324733f2-e06f-4e67-b945-bfb06a89e3a7",
   "metadata": {},
   "outputs": [
    {
     "name": "stdout",
     "output_type": "stream",
     "text": [
      "7      |      8      |      9\n",
      "-------|-------------|--------\n",
      "4      |      5      |      6\n",
      "-------|-------------|--------\n",
      "1      |      2      |      3\n"
     ]
    }
   ],
   "source": [
    "test_board = ['#','1','2','3','4','5','6','7','8','9']\n",
    "display_board(test_board)"
   ]
  },
  {
   "cell_type": "code",
   "execution_count": 3,
   "id": "9fceb052-33b2-4262-881b-849856785042",
   "metadata": {},
   "outputs": [],
   "source": [
    "#  A function to take in a player input and assign their marker as 'X' or 'O'\n",
    "from IPython.display import clear_output\n",
    "def player_input():\n",
    "    '''\n",
    "    OUTPUT = (Player1 marker, Player2 marker)\n",
    "    '''\n",
    "    marker = ''\n",
    "\n",
    "    # Keep asking Player1 to choose X or O\n",
    "    while marker != 'X' and marker != 'O':\n",
    "        clear_output()\n",
    "        marker = input(\"Player 1, Choose marker X or O: \").upper()\n",
    "\n",
    "    #Assign Player 2, the opposite marker \n",
    "    if marker == 'X':\n",
    "        return('X','O')\n",
    "    else:\n",
    "        return('O','X')"
   ]
  },
  {
   "cell_type": "code",
   "execution_count": 4,
   "id": "cbb5cbfe-f5e5-407c-851c-d12e1527ee4b",
   "metadata": {},
   "outputs": [
    {
     "name": "stdin",
     "output_type": "stream",
     "text": [
      "Player 1, Choose marker X or O:  X\n"
     ]
    }
   ],
   "source": [
    "player1_marker,player2_marker = player_input()"
   ]
  },
  {
   "cell_type": "code",
   "execution_count": 5,
   "id": "0bc3b581-7775-40b1-98d4-050c26697e64",
   "metadata": {},
   "outputs": [
    {
     "data": {
      "text/plain": [
       "'X'"
      ]
     },
     "execution_count": 5,
     "metadata": {},
     "output_type": "execute_result"
    }
   ],
   "source": [
    "player1_marker"
   ]
  },
  {
   "cell_type": "code",
   "execution_count": 6,
   "id": "55a01c59-3aba-47a7-b602-342db83642b8",
   "metadata": {},
   "outputs": [
    {
     "data": {
      "text/plain": [
       "'O'"
      ]
     },
     "execution_count": 6,
     "metadata": {},
     "output_type": "execute_result"
    }
   ],
   "source": [
    "player2_marker"
   ]
  },
  {
   "cell_type": "code",
   "execution_count": null,
   "id": "3e64c19f-965e-436b-a6b5-0aa367275864",
   "metadata": {},
   "outputs": [],
   "source": []
  },
  {
   "cell_type": "code",
   "execution_count": 7,
   "id": "8f4d9323-342c-44d2-acc6-3a683c67dace",
   "metadata": {},
   "outputs": [],
   "source": [
    "# Funtion that takes in the board list object,marker and a desired position(1-9) and assign it to the board\n",
    "def place_marker(board,marker,position):\n",
    "    board[position] = marker\n",
    "    return board"
   ]
  },
  {
   "cell_type": "code",
   "execution_count": 8,
   "id": "53083b86-951d-4a14-b273-1779c5dd1402",
   "metadata": {},
   "outputs": [
    {
     "name": "stdout",
     "output_type": "stream",
     "text": [
      "7      |      X      |      9\n",
      "-------|-------------|--------\n",
      "4      |      5      |      6\n",
      "-------|-------------|--------\n",
      "1      |      2      |      3\n"
     ]
    }
   ],
   "source": [
    "place_marker(test_board,'X',8)\n",
    "display_board(test_board)"
   ]
  },
  {
   "cell_type": "code",
   "execution_count": null,
   "id": "a727b26f-ad6b-4e7c-a6e4-a3e28bf7df2c",
   "metadata": {},
   "outputs": [],
   "source": []
  },
  {
   "cell_type": "code",
   "execution_count": 9,
   "id": "135b7447-d3a8-40a5-9007-d604a585277c",
   "metadata": {},
   "outputs": [],
   "source": [
    "# Function that takes in the board and a mark (X or O) and then checks to see if that mark has won\n",
    "def win_check(board,mark):\n",
    "    # Checking Win TIC TAC TOE???\n",
    "    return((board[1] == board[2] == board[3] == mark) or # across the top\n",
    "           (board[4] == board[5] == board[6] == mark) or # across the middle\n",
    "           (board[7] == board[8] == board[9] == mark) or # across the bottom\n",
    "           (board[1] == board[4] == board[7] == mark) or # down the left row\n",
    "           (board[8] == board[5] == board[2] == mark) or # down the middle row\n",
    "           (board[9] == board[6] == board[3] == mark) or # down the right row\n",
    "           (board[7] == board[5] == board[3] == mark) or # diagonal\n",
    "           (board[1] == board[5] == board[9] == mark))   # diagonal\n",
    "    \n",
    "    "
   ]
  },
  {
   "cell_type": "code",
   "execution_count": 10,
   "id": "33c0e119-d9e7-4954-bcdf-9f16ed728f82",
   "metadata": {},
   "outputs": [
    {
     "name": "stdout",
     "output_type": "stream",
     "text": [
      "X      |      O      |      X\n",
      "-------|-------------|--------\n",
      "O      |      X      |      O\n",
      "-------|-------------|--------\n",
      "X      |      O      |      X\n"
     ]
    },
    {
     "data": {
      "text/plain": [
       "True"
      ]
     },
     "execution_count": 10,
     "metadata": {},
     "output_type": "execute_result"
    }
   ],
   "source": [
    "test_board = ['#','X','O','X','O','X','O','X','O','X']\n",
    "display_board(test_board)\n",
    "win_check(test_board,'X')"
   ]
  },
  {
   "cell_type": "code",
   "execution_count": 11,
   "id": "eb65418d-9fb3-4fba-81f3-a082323dc127",
   "metadata": {},
   "outputs": [],
   "source": [
    "#Function to choose that uses the random module to randomly decide which player goes first. You may want to lookup random.randint() Return a string of which player went first.\n",
    "\n",
    "import random\n",
    "\n",
    "def choose_first():\n",
    "    flip = random.randint(0,1)\n",
    "    if flip == 0:\n",
    "        return 'player 1'\n",
    "    else:\n",
    "        return 'player 2'"
   ]
  },
  {
   "cell_type": "code",
   "execution_count": 12,
   "id": "e2dac05b-214f-4433-9635-9bf263dd1e5b",
   "metadata": {},
   "outputs": [],
   "source": [
    "#Function that returns a boolean indicating whether a space on the board is freely available.\n",
    "def space_check(board,posiion):\n",
    "    return board[posiion] == ' '"
   ]
  },
  {
   "cell_type": "code",
   "execution_count": 13,
   "id": "cdda8482-d550-451d-ad28-9cf21106a408",
   "metadata": {},
   "outputs": [],
   "source": [
    "#Function that checks if the board is full and returns a boolean value. True if full, False otherwise.\n",
    "def full_board_check(board):\n",
    "    for i in range (1,10):\n",
    "        if space_check(board,i): # If we have a space it will return false\n",
    "            return False\n",
    "    return True # Board is Full"
   ]
  },
  {
   "cell_type": "code",
   "execution_count": 14,
   "id": "d38eb893-6266-4f46-8548-1b834110f90b",
   "metadata": {},
   "outputs": [],
   "source": [
    "#Function that asks for a player's next position (as a number 1-9) and then uses the function from step 6 to check if its a free position. If it is, then return the position for later use.\n",
    "def player_choice(board):\n",
    "    position = 0\n",
    "    while position not in [1,2,3,4,5,6,7,8,9] or not space_check(board, position):\n",
    "        position = int(input('Choose your next position: (1-9) '))\n",
    "        \n",
    "    return position"
   ]
  },
  {
   "cell_type": "code",
   "execution_count": 15,
   "id": "bd062105-7ee7-4948-a2a8-da6476bf5dea",
   "metadata": {},
   "outputs": [],
   "source": [
    "#function that asks the player if they want to play again and returns a boolean True if they do want to play again.\n",
    "def replay():\n",
    "    return input('Do you want to play again? Enter Yes or No: ').lower().startswith('y')"
   ]
  },
  {
   "cell_type": "code",
   "execution_count": 16,
   "id": "074ae544-1019-4ba2-b618-e91a4c551481",
   "metadata": {},
   "outputs": [
    {
     "name": "stdout",
     "output_type": "stream",
     "text": [
      "O      |             |       \n",
      "-------|-------------|--------\n",
      "X      |      O      |      X\n",
      "-------|-------------|--------\n",
      "O      |      X      |      O\n",
      "Player 2 has won!\n"
     ]
    },
    {
     "name": "stdin",
     "output_type": "stream",
     "text": [
      "Do you want to play again? Enter Yes or No:  No\n"
     ]
    }
   ],
   "source": [
    "#Run the game!\n",
    "print('Welcome to Tic Tac Toe!')\n",
    "\n",
    "#WHILE LOOP TO KEEP RUNNING THE GAME\n",
    "while True:\n",
    "    #PLAY THE GAME \n",
    "    #SET EVERYTHING UP - BOARD, WHO IS GOING TO PLAY FIRST,CHOOSE MARKER\n",
    "    theBoard = [' '] * 10\n",
    "    player1_marker, player2_marker = player_input()\n",
    "    turn = choose_first()\n",
    "    print(turn + ' will go first.')\n",
    "    \n",
    "    play_game = input('Are you ready to play? Enter Yes or No.')\n",
    "    \n",
    "    if play_game.lower()[0] == 'y':\n",
    "        game_on = True\n",
    "    else:\n",
    "        game_on = False\n",
    "\n",
    "    while game_on:\n",
    "        ##GAME PLAY\n",
    "        if turn == 'Player 1':        # Player1's turn.\n",
    "            # Show the board\n",
    "            display_board(theBoard)\n",
    "            # Choose the position\n",
    "            position = player_choice(theBoard)\n",
    "            # Place the marker on the position\n",
    "            place_marker(theBoard, player1_marker, position)\n",
    "            \n",
    "            # Check If they won\n",
    "            if win_check(theBoard, player1_marker):\n",
    "                display_board(theBoard)\n",
    "                print('Congratulations! You have won the game!')\n",
    "                game_on = False    \n",
    "            else:              # or Check if there is a tie\n",
    "                if full_board_check(theBoard):\n",
    "                    display_board(theBoard)\n",
    "                    print('The game is a draw!')\n",
    "                    break\n",
    "                else:         # No Tie and No win ? Then Next players turn\n",
    "                    turn = 'Player 2'\n",
    "\n",
    "        else:\n",
    "            # Player2's turn.\n",
    "            # Show the board\n",
    "            display_board(theBoard)\n",
    "            # Choose the position\n",
    "            position = player_choice(theBoard)\n",
    "            # Place the marker on the position\n",
    "            place_marker(theBoard, player2_marker, position)\n",
    "\n",
    "            # Check If they won\n",
    "            if win_check(theBoard, player2_marker):\n",
    "                display_board(theBoard)\n",
    "                print('Player 2 has won!')\n",
    "                game_on = False\n",
    "            else:             # or Check if there is a tie\n",
    "                if full_board_check(theBoard):\n",
    "                    display_board(theBoard)\n",
    "                    print('The game is a draw!')\n",
    "                    break\n",
    "                else:        # No Tie and No win ? Then Next players turn\n",
    "                    turn = 'Player 1'\n",
    "\n",
    "    if not replay():\n",
    "        break"
   ]
  },
  {
   "cell_type": "code",
   "execution_count": null,
   "id": "5a09a490-7723-4278-8d97-7f2ace8139ea",
   "metadata": {},
   "outputs": [],
   "source": []
  }
 ],
 "metadata": {
  "kernelspec": {
   "display_name": "Python 3 (ipykernel)",
   "language": "python",
   "name": "python3"
  },
  "language_info": {
   "codemirror_mode": {
    "name": "ipython",
    "version": 3
   },
   "file_extension": ".py",
   "mimetype": "text/x-python",
   "name": "python",
   "nbconvert_exporter": "python",
   "pygments_lexer": "ipython3",
   "version": "3.11.7"
  }
 },
 "nbformat": 4,
 "nbformat_minor": 5
}
